{
 "cells": [
  {
   "cell_type": "code",
   "execution_count": 3,
   "id": "19f35aae",
   "metadata": {},
   "outputs": [],
   "source": [
    "from dataAnalysisFile import *"
   ]
  },
  {
   "cell_type": "code",
   "execution_count": 4,
   "id": "67d52b9b",
   "metadata": {},
   "outputs": [],
   "source": [
    "#!pip install -U scikit-learn"
   ]
  },
  {
   "cell_type": "code",
   "execution_count": 6,
   "id": "35113139",
   "metadata": {},
   "outputs": [
    {
     "name": "stdout",
     "output_type": "stream",
     "text": [
      "loading historical data\n",
      "loading historical data done...\n"
     ]
    }
   ],
   "source": [
    "ensemble_model = DataAnalyzer()\n"
   ]
  },
  {
   "cell_type": "code",
   "execution_count": null,
   "id": "e291aeec",
   "metadata": {},
   "outputs": [],
   "source": [
    "ensemble_model.preprocess_data()"
   ]
  },
  {
   "cell_type": "code",
   "execution_count": null,
   "id": "5b1db0bf",
   "metadata": {},
   "outputs": [],
   "source": [
    "ensemble_model.split_data()\n"
   ]
  },
  {
   "cell_type": "code",
   "execution_count": null,
   "id": "28f570dd",
   "metadata": {},
   "outputs": [],
   "source": [
    "ensemble_model.train_models()\n"
   ]
  },
  {
   "cell_type": "code",
   "execution_count": null,
   "id": "3404d22b",
   "metadata": {},
   "outputs": [],
   "source": [
    "ensemble_model.evaluate_model()"
   ]
  },
  {
   "cell_type": "code",
   "execution_count": null,
   "id": "c4adca34",
   "metadata": {},
   "outputs": [],
   "source": []
  }
 ],
 "metadata": {
  "kernelspec": {
   "display_name": "Python 3 (ipykernel)",
   "language": "python",
   "name": "python3"
  },
  "language_info": {
   "codemirror_mode": {
    "name": "ipython",
    "version": 3
   },
   "file_extension": ".py",
   "mimetype": "text/x-python",
   "name": "python",
   "nbconvert_exporter": "python",
   "pygments_lexer": "ipython3",
   "version": "3.11.5"
  }
 },
 "nbformat": 4,
 "nbformat_minor": 5
}
