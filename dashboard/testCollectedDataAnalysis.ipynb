{
 "cells": [
  {
   "cell_type": "code",
   "execution_count": null,
   "id": "70fb762c",
   "metadata": {},
   "outputs": [],
   "source": [
    "from dataService import *\n",
    "from dataAnalysisFile import *"
   ]
  },
  {
   "cell_type": "code",
   "execution_count": null,
   "id": "db9d887a",
   "metadata": {},
   "outputs": [],
   "source": [
    "file_path = \"historicalData/historical_data.json\" "
   ]
  },
  {
   "cell_type": "code",
   "execution_count": null,
   "id": "7102b47d",
   "metadata": {},
   "outputs": [],
   "source": [
    "# Step 1: Collect historical data and save to file\n",
    "collector = HistoricalDataCollector(\n",
    "    stock_code=\"NIFTY\",\n",
    "    exchange_code=\"NFO\",\n",
    "    product_type=\"options\",\n",
    "    session_token=32190858,\n",
    "    right=\"call\",\n",
    "    strike_price=21750)"
   ]
  },
  {
   "cell_type": "code",
   "execution_count": null,
   "id": "a6dda870",
   "metadata": {},
   "outputs": [],
   "source": [
    "csv_file_path = \"cnse.csv\"  # Update with the actual CSV file path\n",
    "historical_data_list = collector.download_historical_data_from_csv(csv_file_path)\n"
   ]
  },
  {
   "cell_type": "code",
   "execution_count": null,
   "id": "cdba729d",
   "metadata": {},
   "outputs": [],
   "source": []
  },
  {
   "cell_type": "code",
   "execution_count": null,
   "id": "20423933",
   "metadata": {},
   "outputs": [],
   "source": []
  },
  {
   "cell_type": "code",
   "execution_count": null,
   "id": "66875f87",
   "metadata": {},
   "outputs": [],
   "source": []
  },
  {
   "cell_type": "code",
   "execution_count": null,
   "id": "803baa48",
   "metadata": {},
   "outputs": [],
   "source": []
  },
  {
   "cell_type": "code",
   "execution_count": null,
   "id": "2ca2b699",
   "metadata": {},
   "outputs": [],
   "source": [
    "historical_data = collector.collect_historical_data(num_weeks=3)\n"
   ]
  },
  {
   "cell_type": "code",
   "execution_count": null,
   "id": "85b70bc9",
   "metadata": {},
   "outputs": [],
   "source": [
    "file_handler = DataFileHandler()\n",
    "#file_handler.save_to_file(historical_data_list, file_path)"
   ]
  },
  {
   "cell_type": "code",
   "execution_count": null,
   "id": "959a2d00",
   "metadata": {},
   "outputs": [],
   "source": [
    "# Step 2: Read file and load data into a DataFrame\n",
    "historical_df = file_handler.read_file_and_load_dataframe(file_path)\n"
   ]
  },
  {
   "cell_type": "code",
   "execution_count": null,
   "id": "d3c6f4f0",
   "metadata": {},
   "outputs": [],
   "source": [
    "historical_df.head()"
   ]
  },
  {
   "cell_type": "code",
   "execution_count": null,
   "id": "939e6298",
   "metadata": {},
   "outputs": [],
   "source": [
    "historical_df.columns"
   ]
  },
  {
   "cell_type": "code",
   "execution_count": null,
   "id": "3b9bb040",
   "metadata": {},
   "outputs": [],
   "source": [
    "import json\n",
    "import pandas as pd\n",
    "from datetime import datetime, timedelta"
   ]
  },
  {
   "cell_type": "code",
   "execution_count": null,
   "id": "e2338270",
   "metadata": {},
   "outputs": [],
   "source": [
    "with open(file_path, 'r') as file:\n",
    "    data = json.load(file)\n",
    "    #df = pd.DataFrame(data)"
   ]
  },
  {
   "cell_type": "code",
   "execution_count": null,
   "id": "a4a7a4a6",
   "metadata": {},
   "outputs": [],
   "source": [
    "# Extract last nodes with datetime as index\n",
    "last_nodes = []\n",
    "for item in data:\n",
    "    timestamp, values = list(item.items())[0]\n",
    "    if values:\n",
    "        last_node = values[-1]\n",
    "        last_node[\"timestamp\"] = pd.to_datetime(last_node[\"datetime\"])\n",
    "        last_nodes.append(last_node)\n",
    "\n",
    "# Convert to DataFrame with datetime index\n",
    "df = pd.DataFrame(last_nodes).set_index('timestamp')"
   ]
  },
  {
   "cell_type": "code",
   "execution_count": null,
   "id": "d0fbee99",
   "metadata": {},
   "outputs": [],
   "source": [
    "df.head()"
   ]
  },
  {
   "cell_type": "code",
   "execution_count": null,
   "id": "21310017",
   "metadata": {},
   "outputs": [],
   "source": [
    "data_analyzer = DataAnalyzer(historical_df)\n",
    "num_weeks_to_analyze = 10  # Change to the desired number of weeks\n",
    "analysis_result = data_analyzer.analyze_data_by_weeks(historical_df, num_weeks_to_analyze)\n"
   ]
  },
  {
   "cell_type": "code",
   "execution_count": null,
   "id": "22fb48e1",
   "metadata": {},
   "outputs": [],
   "source": [
    "last_configurable_data = 5\n",
    "ensemble_model = DataAnalyzer(historical_df)\n"
   ]
  },
  {
   "cell_type": "code",
   "execution_count": null,
   "id": "714abefa",
   "metadata": {},
   "outputs": [],
   "source": [
    "ensemble_model.preprocess_data(last_configurable_data)"
   ]
  },
  {
   "cell_type": "code",
   "execution_count": null,
   "id": "bc47dbd6",
   "metadata": {},
   "outputs": [],
   "source": []
  }
 ],
 "metadata": {
  "kernelspec": {
   "display_name": "Python 3 (ipykernel)",
   "language": "python",
   "name": "python3"
  },
  "language_info": {
   "codemirror_mode": {
    "name": "ipython",
    "version": 3
   },
   "file_extension": ".py",
   "mimetype": "text/x-python",
   "name": "python",
   "nbconvert_exporter": "python",
   "pygments_lexer": "ipython3",
   "version": "3.11.5"
  }
 },
 "nbformat": 4,
 "nbformat_minor": 5
}
